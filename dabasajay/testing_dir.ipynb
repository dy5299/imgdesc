{
 "cells": [
  {
   "cell_type": "code",
   "execution_count": 1,
   "metadata": {
    "scrolled": true
   },
   "outputs": [
    {
     "name": "stderr",
     "output_type": "stream",
     "text": [
      "/home/ubuntu/anaconda3/envs/imgdesc_tf2/lib/python3.6/site-packages/h5py/__init__.py:36: FutureWarning: Conversion of the second argument of issubdtype from `float` to `np.floating` is deprecated. In future, it will be treated as `np.float64 == np.dtype(float).type`.\n",
      "  from ._conv import register_converters as _register_converters\n",
      "Using TensorFlow backend.\n",
      "/home/ubuntu/anaconda3/envs/imgdesc_tf2/lib/python3.6/site-packages/tensorflow_core/python/framework/indexed_slices.py:433: UserWarning: Converting sparse IndexedSlices to a dense Tensor of unknown shape. This may consume a large amount of memory.\n",
      "  \"Converting sparse IndexedSlices to a dense Tensor of unknown shape. \"\n"
     ]
    },
    {
     "name": "stdout",
     "output_type": "stream",
     "text": [
      "Generating caption for 1.jpg\n",
      "Generating caption for bikestunt.jpg\n",
      "Generating caption for 3.jpg\n",
      "Generating caption for 4.jpg\n",
      "Generating caption for surfing.jpeg\n",
      "Generating caption for 5.jpg\n"
     ]
    }
   ],
   "source": [
    "import numpy as np\n",
    "from PIL import Image\n",
    "from pickle import load\n",
    "import matplotlib.pyplot as plt\n",
    "from keras.models import load_model\n",
    "from keras.preprocessing.image import load_img, img_to_array\n",
    "from utils.model import CNNModel, generate_caption_beam_search\n",
    "import os\n",
    "from googletrans import Translator\n",
    "\n",
    "from config import config\n",
    "\n",
    "\"\"\"\n",
    "    *Some simple checking\n",
    "\"\"\"\n",
    "assert type(config['max_length']) is int, 'Please provide an integer value for `max_length` parameter in config.py file'\n",
    "assert type(config['beam_search_k']) is int, 'Please provide an integer value for `beam_search_k` parameter in config.py file'\n",
    "\n",
    "# Extract features from each image in the directory\n",
    "def extract_features(filename, model, model_type):\n",
    "\tif model_type == 'inceptionv3':\n",
    "\t\tfrom keras.applications.inception_v3 import preprocess_input\n",
    "\t\ttarget_size = (299, 299)\n",
    "\telif model_type == 'vgg16':\n",
    "\t\tfrom keras.applications.vgg16 import preprocess_input\n",
    "\t\ttarget_size = (224, 224)\n",
    "\t# Loading and resizing image\n",
    "\timage = load_img(filename, target_size=target_size)\n",
    "\t# Convert the image pixels to a numpy array\n",
    "\timage = img_to_array(image)\n",
    "\t# Reshape data for the model\n",
    "\timage = image.reshape((1, image.shape[0], image.shape[1], image.shape[2]))\n",
    "\t# Prepare the image for the CNN Model model\n",
    "\timage = preprocess_input(image)\n",
    "\t# Pass image into model to get encoded features\n",
    "\tfeatures = model.predict(image, verbose=0)\n",
    "\treturn features\n",
    "\n",
    "# Load the tokenizer\n",
    "tokenizer_path = config['tokenizer_path']\n",
    "tokenizer = load(open(tokenizer_path, 'rb'))\n",
    "\n",
    "# Max sequence length (from training)\n",
    "max_length = config['max_length']\n",
    "\n",
    "# Load the model\n",
    "caption_model = load_model(config['model_load_path'])\n",
    "\n",
    "image_model = CNNModel(config['model_type'])\n",
    "\n",
    "# Load and prepare the image\n",
    "for image_file in os.listdir(config['test_data_path']):\n",
    "\tif(image_file.split('--')[0]=='output'):\n",
    "\t\tcontinue\n",
    "\tif(image_file.split('.')[1]=='jpg' or image_file.split('.')[1]=='jpeg'):\n",
    "\t\tprint('Generating caption for {}'.format(image_file))\n",
    "\t\t# Encode image using CNN Model\n",
    "\t\timage = extract_features(config['test_data_path']+image_file, image_model, config['model_type'])\n",
    "\t\t# Generate caption using Decoder RNN Model + BEAM search\n",
    "\t\tgenerated_caption = generate_caption_beam_search(caption_model, tokenizer, image, max_length, beam_index=config['beam_search_k'])\n",
    "\t\t# Remove startseq and endseq\n",
    "\t\tcaption = 'Caption: ' + generated_caption.split()[1].capitalize()\n",
    "\t\tfor x in generated_caption.split()[2:len(generated_caption.split())-1]:\n",
    "\t\t    caption = caption + ' ' + x\n",
    "\t\tcaption += '.'\n",
    "\t\ttranslator = Translator()\n",
    "\t\tdesc_ko = translator.translate(caption,dest='ko').text\n",
    "\t\t# Show image and its caption\n",
    "\t\tpil_im = Image.open(config['test_data_path']+image_file, 'r')\n",
    "\t\tfig, ax = plt.subplots(figsize=(8, 8))\n",
    "\t\tax.get_xaxis().set_visible(False)\n",
    "\t\tax.get_yaxis().set_visible(False)\n",
    "\t\t_ = ax.imshow(np.asarray(pil_im), interpolation='nearest')\n",
    "\t\t_ = ax.set_title(\"BEAM Search with k={}\\n{}\\n{}\".format(config['beam_search_k'],caption,desc_ko),fontdict={'fontsize': '20','fontweight' : '40'})\n",
    "\t\tplt.savefig(config['test_data_path']+'output--'+image_file)"
   ]
  },
  {
   "cell_type": "code",
   "execution_count": null,
   "metadata": {},
   "outputs": [],
   "source": []
  }
 ],
 "metadata": {
  "kernelspec": {
   "display_name": "Python 3",
   "language": "python",
   "name": "python3"
  },
  "language_info": {
   "codemirror_mode": {
    "name": "ipython",
    "version": 3
   },
   "file_extension": ".py",
   "mimetype": "text/x-python",
   "name": "python",
   "nbconvert_exporter": "python",
   "pygments_lexer": "ipython3",
   "version": "3.6.5"
  }
 },
 "nbformat": 4,
 "nbformat_minor": 2
}
